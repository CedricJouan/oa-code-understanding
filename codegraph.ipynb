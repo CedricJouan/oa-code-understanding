{
 "cells": [
  {
   "cell_type": "code",
   "execution_count": 33,
   "metadata": {},
   "outputs": [
    {
     "data": {
      "text/plain": [
       "'/Users/macbook/Documents/GitHub/oa-small-dev'"
      ]
     },
     "execution_count": 33,
     "metadata": {},
     "output_type": "execute_result"
    }
   ],
   "source": [
    "import os\n",
    "\n",
    "CODEBASE_DIR_NAME = 'oa-small-dev'\n",
    "GIT_PATH = os.path.dirname(os.getcwd())\n",
    "CODEBASE_ROOT = os.path.join(GIT_PATH, CODEBASE_DIR_NAME)\n",
    "CODEBASE_ROOT"
   ]
  },
  {
   "cell_type": "code",
   "execution_count": 48,
   "metadata": {},
   "outputs": [],
   "source": [
    "import os\n",
    "import pickle\n",
    "\n",
    "class File:\n",
    "    def __init__(self, name, size):\n",
    "        self.name = name\n",
    "        self.size = size  # in bytes\n",
    "\n",
    "    def __repr__(self):\n",
    "        return f\"File(name={self.name}, size={self.size} bytes)\"\n",
    "\n",
    "class PythonFile(File):\n",
    "    def __init__(self, name, size, is_executable=False):\n",
    "        super().__init__(name, size)\n",
    "        self.is_executable = is_executable\n",
    "\n",
    "    def __repr__(self):\n",
    "        return f\"PythonFile(name={self.name}, size={self.size} bytes, executable={self.is_executable})\"\n",
    "\n",
    "class Directory:\n",
    "    def __init__(self, name, parent=None):\n",
    "        self.name = name\n",
    "        self.parent = parent\n",
    "        self.children = []\n",
    "        self.files = []\n",
    "\n",
    "    def add_file(self, file):\n",
    "        self.files.append(file)\n",
    "\n",
    "    def add_directory(self, directory_name):\n",
    "        new_directory = Directory(directory_name, self)\n",
    "        self.children.append(new_directory)\n",
    "        return new_directory\n",
    "\n",
    "    def remove_file(self, file_name):\n",
    "        self.files = [file for file in self.files if file.name != file_name]\n",
    "\n",
    "    def find_directory(self, path):\n",
    "        if path == self.name:\n",
    "            return self\n",
    "        for child in self.children:\n",
    "            result = child.find_directory(path)\n",
    "            if result:\n",
    "                return result\n",
    "        return None\n",
    "\n",
    "    def __repr__(self):\n",
    "        return f\"Directory(name={self.name})\"\n",
    "\n",
    "    def print_structure(self, indent=0):\n",
    "        print(' ' * indent + self.name + '/')\n",
    "        for file in self.files:\n",
    "            print(' ' * (indent + 4) + file.__repr__())\n",
    "        for child in self.children:\n",
    "            child.print_structure(indent + 4)\n",
    "\n",
    "\n",
    "\n",
    "class RootDirectory(Directory):\n",
    "    def __init__(self, root_path=None, skip_hidden=True):\n",
    "        if root_path:\n",
    "            super().__init__(os.path.basename(root_path) or root_path)\n",
    "            self.load_structure(root_path, skip_hidden)\n",
    "        else:\n",
    "            super().__init__('root')\n",
    "\n",
    "    def load_structure(self, root_path, skip_hidden):\n",
    "        if not os.path.isdir(root_path):\n",
    "            return None\n",
    "\n",
    "        for dirpath, dirnames, filenames in os.walk(root_path, topdown=True):\n",
    "            current_dir = self.find_directory(os.path.basename(dirpath) or dirpath)\n",
    "            if current_dir is None:\n",
    "                continue\n",
    "\n",
    "            if skip_hidden:\n",
    "                dirnames[:] = [d for d in dirnames if not d.startswith('.')]\n",
    "\n",
    "            for dirname in dirnames:\n",
    "                current_dir.add_directory(dirname)\n",
    "\n",
    "            for filename in filenames:\n",
    "                if skip_hidden and filename.startswith('.'):\n",
    "                    continue\n",
    "                filepath = os.path.join(dirpath, filename)\n",
    "                file_size = os.path.getsize(filepath)\n",
    "                if filename.endswith('.py'):\n",
    "                    current_dir.add_file(PythonFile(filename, file_size))\n",
    "                else:\n",
    "                    current_dir.add_file(File(filename, file_size))\n",
    "\n",
    "    def save_to_file(self, file_path):\n",
    "        with open(file_path, 'wb') as f:\n",
    "            pickle.dump(self, f)\n",
    "\n",
    "    @staticmethod\n",
    "    def load_from_file(file_path):\n",
    "        with open(file_path, 'rb') as f:\n",
    "            return pickle.load(f)\n",
    "        \n",
    "\n"
   ]
  },
  {
   "cell_type": "code",
   "execution_count": 49,
   "metadata": {},
   "outputs": [],
   "source": [
    "# Example usage:\n",
    "root_dir = RootDirectory(CODEBASE_ROOT)\n",
    "if root_dir:\n",
    "    root_dir.save_to_file('root_directory.pkl')"
   ]
  },
  {
   "cell_type": "code",
   "execution_count": 50,
   "metadata": {},
   "outputs": [
    {
     "name": "stdout",
     "output_type": "stream",
     "text": [
      "oa-small-dev/\n",
      "    File(name=LICENSE, size=35148 bytes)\n",
      "    File(name=requirements.txt, size=1454 bytes)\n",
      "    PythonFile(name=start_architecting.py, size=619 bytes, executable=False)\n",
      "    File(name=README.md, size=329 bytes)\n",
      "    src/\n",
      "        PythonFile(name=language_models.py, size=142 bytes, executable=False)\n",
      "        PythonFile(name=models.py, size=345 bytes, executable=False)\n",
      "        agents/\n",
      "            architect/\n",
      "                PythonFile(name=__init__.py, size=19418 bytes, executable=False)\n",
      "        helpers/\n",
      "            PythonFile(name=github.py, size=1086 bytes, executable=False)\n"
     ]
    }
   ],
   "source": [
    "loaded_root_dir = RootDirectory.load_from_file('root_directory.pkl')\n",
    "if loaded_root_dir:\n",
    "    loaded_root_dir.print_structure()"
   ]
  },
  {
   "cell_type": "markdown",
   "metadata": {},
   "source": [
    "### Summarize pyfiles"
   ]
  },
  {
   "cell_type": "code",
   "execution_count": 71,
   "metadata": {},
   "outputs": [],
   "source": [
    "import glob\n",
    "\n",
    "# Define the glob pattern to find all document files\n",
    "pattern = f\"{CODEBASE_ROOT}/**/*.py\"\n",
    "\n",
    "# Use glob.glob with the pattern and recursive=True to search subdirectories\n",
    "files = glob.glob(pattern, recursive=True)\n",
    "\n",
    "# Print the list of document files found\n",
    "py_files = []\n",
    "for file in files:\n",
    "    py_files.append(file)"
   ]
  },
  {
   "cell_type": "code",
   "execution_count": 83,
   "metadata": {},
   "outputs": [
    {
     "name": "stdout",
     "output_type": "stream",
     "text": [
      "/Users/macbook/Documents/GitHub/oa-small-dev/start_architecting.py 77\n",
      "/Users/macbook/Documents/GitHub/oa-small-dev/src/language_models.py 13\n",
      "/Users/macbook/Documents/GitHub/oa-small-dev/src/models.py 52\n",
      "/Users/macbook/Documents/GitHub/oa-small-dev/src/agents/architect/__init__.py 2328\n",
      "/Users/macbook/Documents/GitHub/oa-small-dev/src/helpers/github.py 114\n"
     ]
    }
   ],
   "source": [
    "import ast\n",
    "import astor\n",
    "\n",
    "\n",
    "for file in py_files:\n",
    "    with open(file, \"r\") as f:\n",
    "        source_code = f.read()\n",
    "        tree = ast.parse(source_code)\n",
    "        print(file, int((4/3)*len(astor.to_source(tree).split())))"
   ]
  },
  {
   "cell_type": "code",
   "execution_count": 66,
   "metadata": {},
   "outputs": [
    {
     "data": {
      "text/plain": [
       "[<ast.Import at 0x1112c3f90>,\n",
       " <ast.ImportFrom at 0x1112c3f10>,\n",
       " <ast.ImportFrom at 0x111241dd0>,\n",
       " <ast.ImportFrom at 0x1112c3e50>,\n",
       " <ast.Import at 0x1112c3dd0>,\n",
       " <ast.ImportFrom at 0x1112c3d50>,\n",
       " <ast.ImportFrom at 0x1112c3cd0>,\n",
       " <ast.ClassDef at 0x1112c3c50>,\n",
       " <ast.ClassDef at 0x1111a5610>,\n",
       " <ast.ClassDef at 0x1112c3890>,\n",
       " <ast.ClassDef at 0x1112c3690>,\n",
       " <ast.ClassDef at 0x1112c3490>,\n",
       " <ast.ClassDef at 0x1112c3090>,\n",
       " <ast.FunctionDef at 0x1112e9a90>]"
      ]
     },
     "execution_count": 66,
     "metadata": {},
     "output_type": "execute_result"
    }
   ],
   "source": [
    "tree.body"
   ]
  },
  {
   "cell_type": "code",
   "execution_count": 60,
   "metadata": {},
   "outputs": [
    {
     "name": "stdout",
     "output_type": "stream",
     "text": [
      "import dspy\n",
      "turbo = dspy.OpenAI(model='gpt-3.5-turbo-0125', max_tokens=4096)\n",
      "gpt4 = dspy.OpenAI(model='gpt-4-0125-preview', max_tokens=4096)\n",
      "\n",
      "import dspy\n",
      "\n",
      "turbo = dspy.OpenAI(model='gpt-3.5-turbo-0125', max_tokens=4096)\n",
      "\n",
      "gpt4 = dspy.OpenAI(model='gpt-4-0125-preview', max_tokens=4096)\n",
      "\n",
      "dspy\n",
      "\n",
      "turbo\n",
      "\n",
      "dspy.OpenAI(model='gpt-3.5-turbo-0125', max_tokens=4096)\n",
      "\n",
      "gpt4\n",
      "\n",
      "dspy.OpenAI(model='gpt-4-0125-preview', max_tokens=4096)\n",
      "\n"
     ]
    },
    {
     "ename": "AttributeError",
     "evalue": "No defined handler for node of type Store",
     "output_type": "error",
     "traceback": [
      "\u001b[0;31m---------------------------------------------------------------------------\u001b[0m",
      "\u001b[0;31mAttributeError\u001b[0m                            Traceback (most recent call last)",
      "Cell \u001b[0;32mIn[60], line 4\u001b[0m\n\u001b[1;32m      1\u001b[0m tree\u001b[38;5;241m.\u001b[39mbody\n\u001b[1;32m      3\u001b[0m \u001b[38;5;28;01mfor\u001b[39;00m node \u001b[38;5;129;01min\u001b[39;00m ast\u001b[38;5;241m.\u001b[39mwalk(tree):\n\u001b[0;32m----> 4\u001b[0m     \u001b[38;5;28mprint\u001b[39m(\u001b[43mastor\u001b[49m\u001b[38;5;241;43m.\u001b[39;49m\u001b[43mto_source\u001b[49m\u001b[43m(\u001b[49m\u001b[43mnode\u001b[49m\u001b[43m)\u001b[49m)\n\u001b[1;32m      5\u001b[0m     \u001b[38;5;66;03m# if isinstance(node, ast.FunctionDef):\u001b[39;00m\n\u001b[1;32m      6\u001b[0m     \u001b[38;5;66;03m#     print(node.name)\u001b[39;00m\n\u001b[1;32m      7\u001b[0m     \u001b[38;5;66;03m#     print(astor.to_source(node))\u001b[39;00m\n\u001b[1;32m      8\u001b[0m     \u001b[38;5;66;03m#     print()\u001b[39;00m\n",
      "File \u001b[0;32m/usr/local/Caskroom/miniconda/base/envs/cu/lib/python3.12/site-packages/astor/code_gen.py:63\u001b[0m, in \u001b[0;36mto_source\u001b[0;34m(node, indent_with, add_line_information, pretty_string, pretty_source, source_generator_class)\u001b[0m\n\u001b[1;32m     60\u001b[0m     \u001b[38;5;28;01mraise\u001b[39;00m \u001b[38;5;167;01mTypeError\u001b[39;00m(\u001b[38;5;124m'\u001b[39m\u001b[38;5;124msource_generator_class should be a subclass of SourceGenerator\u001b[39m\u001b[38;5;124m'\u001b[39m)\n\u001b[1;32m     61\u001b[0m generator \u001b[38;5;241m=\u001b[39m source_generator_class(\n\u001b[1;32m     62\u001b[0m     indent_with, add_line_information, pretty_string)\n\u001b[0;32m---> 63\u001b[0m \u001b[43mgenerator\u001b[49m\u001b[38;5;241;43m.\u001b[39;49m\u001b[43mvisit\u001b[49m\u001b[43m(\u001b[49m\u001b[43mnode\u001b[49m\u001b[43m)\u001b[49m\n\u001b[1;32m     64\u001b[0m generator\u001b[38;5;241m.\u001b[39mresult\u001b[38;5;241m.\u001b[39mappend(\u001b[38;5;124m'\u001b[39m\u001b[38;5;130;01m\\n\u001b[39;00m\u001b[38;5;124m'\u001b[39m)\n\u001b[1;32m     65\u001b[0m \u001b[38;5;28;01mif\u001b[39;00m \u001b[38;5;28mset\u001b[39m(generator\u001b[38;5;241m.\u001b[39mresult[\u001b[38;5;241m0\u001b[39m]) \u001b[38;5;241m==\u001b[39m \u001b[38;5;28mset\u001b[39m(\u001b[38;5;124m'\u001b[39m\u001b[38;5;130;01m\\n\u001b[39;00m\u001b[38;5;124m'\u001b[39m):\n",
      "File \u001b[0;32m/usr/local/Caskroom/miniconda/base/envs/cu/lib/python3.12/site-packages/astor/node_util.py:143\u001b[0m, in \u001b[0;36mExplicitNodeVisitor.visit\u001b[0;34m(self, node, abort)\u001b[0m\n\u001b[1;32m    141\u001b[0m method \u001b[38;5;241m=\u001b[39m \u001b[38;5;124m'\u001b[39m\u001b[38;5;124mvisit_\u001b[39m\u001b[38;5;124m'\u001b[39m \u001b[38;5;241m+\u001b[39m node\u001b[38;5;241m.\u001b[39m\u001b[38;5;18m__class__\u001b[39m\u001b[38;5;241m.\u001b[39m\u001b[38;5;18m__name__\u001b[39m\n\u001b[1;32m    142\u001b[0m visitor \u001b[38;5;241m=\u001b[39m \u001b[38;5;28mgetattr\u001b[39m(\u001b[38;5;28mself\u001b[39m, method, abort)\n\u001b[0;32m--> 143\u001b[0m \u001b[38;5;28;01mreturn\u001b[39;00m \u001b[43mvisitor\u001b[49m\u001b[43m(\u001b[49m\u001b[43mnode\u001b[49m\u001b[43m)\u001b[49m\n",
      "File \u001b[0;32m/usr/local/Caskroom/miniconda/base/envs/cu/lib/python3.12/site-packages/astor/node_util.py:137\u001b[0m, in \u001b[0;36mExplicitNodeVisitor.abort_visit\u001b[0;34m(node)\u001b[0m\n\u001b[1;32m    135\u001b[0m \u001b[38;5;28;01mdef\u001b[39;00m \u001b[38;5;21mabort_visit\u001b[39m(node):  \u001b[38;5;66;03m# XXX: self?\u001b[39;00m\n\u001b[1;32m    136\u001b[0m     msg \u001b[38;5;241m=\u001b[39m \u001b[38;5;124m'\u001b[39m\u001b[38;5;124mNo defined handler for node of type \u001b[39m\u001b[38;5;132;01m%s\u001b[39;00m\u001b[38;5;124m'\u001b[39m\n\u001b[0;32m--> 137\u001b[0m     \u001b[38;5;28;01mraise\u001b[39;00m \u001b[38;5;167;01mAttributeError\u001b[39;00m(msg \u001b[38;5;241m%\u001b[39m node\u001b[38;5;241m.\u001b[39m\u001b[38;5;18m__class__\u001b[39m\u001b[38;5;241m.\u001b[39m\u001b[38;5;18m__name__\u001b[39m)\n",
      "\u001b[0;31mAttributeError\u001b[0m: No defined handler for node of type Store"
     ]
    }
   ],
   "source": [
    "tree.body\n",
    "\n",
    "for node in ast.walk(tree):\n",
    "    print(astor.to_source(node))\n",
    "    # if isinstance(node, ast.FunctionDef):\n",
    "    #     print(node.name)\n",
    "    #     print(astor.to_source(node))\n",
    "    #     print()"
   ]
  },
  {
   "cell_type": "code",
   "execution_count": null,
   "metadata": {},
   "outputs": [],
   "source": [
    "def get_function_code(tree):\n",
    "    for node in ast.walk(tree):\n",
    "        if isinstance(node, ast.FunctionDef):\n",
    "            # Using astor to convert AST back to source code\n",
    "            function_code = astor.to_source(node)\n",
    "            return function_code.strip()\n"
   ]
  }
 ],
 "metadata": {
  "kernelspec": {
   "display_name": "cu",
   "language": "python",
   "name": "python3"
  },
  "language_info": {
   "codemirror_mode": {
    "name": "ipython",
    "version": 3
   },
   "file_extension": ".py",
   "mimetype": "text/x-python",
   "name": "python",
   "nbconvert_exporter": "python",
   "pygments_lexer": "ipython3",
   "version": "3.12.2"
  }
 },
 "nbformat": 4,
 "nbformat_minor": 2
}
